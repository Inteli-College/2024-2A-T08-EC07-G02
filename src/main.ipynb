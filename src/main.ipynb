{
 "cells": [
  {
   "cell_type": "markdown",
   "metadata": {},
   "source": [
    "# 1. Exploração e limpeza das bases de dados "
   ]
  },
  {
   "cell_type": "code",
   "execution_count": 1,
   "metadata": {},
   "outputs": [],
   "source": [
    "# importacao das dependencias\n",
    "import pandas as pd\n",
    "import numpy as np\n"
   ]
  },
  {
   "cell_type": "markdown",
   "metadata": {},
   "source": [
    "## Base de dados Falhas\n"
   ]
  },
  {
   "cell_type": "code",
   "execution_count": 2,
   "metadata": {},
   "outputs": [
    {
     "data": {
      "text/html": [
       "<div>\n",
       "<style scoped>\n",
       "    .dataframe tbody tr th:only-of-type {\n",
       "        vertical-align: middle;\n",
       "    }\n",
       "\n",
       "    .dataframe tbody tr th {\n",
       "        vertical-align: top;\n",
       "    }\n",
       "\n",
       "    .dataframe thead th {\n",
       "        text-align: right;\n",
       "    }\n",
       "</style>\n",
       "<table border=\"1\" class=\"dataframe\">\n",
       "  <thead>\n",
       "    <tr style=\"text-align: right;\">\n",
       "      <th></th>\n",
       "      <th>KNR</th>\n",
       "      <th>MODELO</th>\n",
       "      <th>COR</th>\n",
       "      <th>MOTOR</th>\n",
       "      <th>ESTACAO</th>\n",
       "      <th>USUARIO</th>\n",
       "      <th>HALLE</th>\n",
       "      <th>FALHA</th>\n",
       "      <th>DATA</th>\n",
       "    </tr>\n",
       "  </thead>\n",
       "  <tbody>\n",
       "    <tr>\n",
       "      <th>0</th>\n",
       "      <td>2023-1326197</td>\n",
       "      <td>T-CROSS</td>\n",
       "      <td>0Q0Q</td>\n",
       "      <td>DHS</td>\n",
       "      <td>PCEQS100</td>\n",
       "      <td>2043521</td>\n",
       "      <td>ZP5</td>\n",
       "      <td>Porta dianteira Folga (Ajuste)</td>\n",
       "      <td>09-01-2023 22:24:44</td>\n",
       "    </tr>\n",
       "    <tr>\n",
       "      <th>1</th>\n",
       "      <td>2023-1326197</td>\n",
       "      <td>T-CROSS</td>\n",
       "      <td>0Q0Q</td>\n",
       "      <td>DHS</td>\n",
       "      <td>PCEQS100</td>\n",
       "      <td>2043521</td>\n",
       "      <td>ZP5</td>\n",
       "      <td>Porta traseira Folga (Ajuste)</td>\n",
       "      <td>09-01-2023 22:25:02</td>\n",
       "    </tr>\n",
       "    <tr>\n",
       "      <th>2</th>\n",
       "      <td>2023-4130482</td>\n",
       "      <td>AUDI Q3</td>\n",
       "      <td>2Y2Y</td>\n",
       "      <td>DSN</td>\n",
       "      <td>PCEQS999</td>\n",
       "      <td>2054701</td>\n",
       "      <td>ESPC</td>\n",
       "      <td>Lanterna tras (09) Interfere</td>\n",
       "      <td>10-01-2023 09:18:25</td>\n",
       "    </tr>\n",
       "    <tr>\n",
       "      <th>3</th>\n",
       "      <td>2023-4130482</td>\n",
       "      <td>AUDI Q3</td>\n",
       "      <td>2Y2Y</td>\n",
       "      <td>DSN</td>\n",
       "      <td>PCEQS999</td>\n",
       "      <td>2054701</td>\n",
       "      <td>ESPC</td>\n",
       "      <td>Emblema / logo - Adesivos em geral Solto(a) ¨</td>\n",
       "      <td>10-01-2023 09:18:40</td>\n",
       "    </tr>\n",
       "    <tr>\n",
       "      <th>4</th>\n",
       "      <td>2023-4130664</td>\n",
       "      <td>AUDI Q3</td>\n",
       "      <td>6Y6Y</td>\n",
       "      <td>DSN</td>\n",
       "      <td>PCEQS805</td>\n",
       "      <td>7000240</td>\n",
       "      <td>ZP82</td>\n",
       "      <td>Painel instrumentos Ruído (-)</td>\n",
       "      <td>10-01-2023 11:17:56</td>\n",
       "    </tr>\n",
       "    <tr>\n",
       "      <th>...</th>\n",
       "      <td>...</td>\n",
       "      <td>...</td>\n",
       "      <td>...</td>\n",
       "      <td>...</td>\n",
       "      <td>...</td>\n",
       "      <td>...</td>\n",
       "      <td>...</td>\n",
       "      <td>...</td>\n",
       "      <td>...</td>\n",
       "    </tr>\n",
       "    <tr>\n",
       "      <th>992715</th>\n",
       "      <td>2024-2556363</td>\n",
       "      <td>T-CROSS</td>\n",
       "      <td>6UA1</td>\n",
       "      <td>CWL</td>\n",
       "      <td>SMT2</td>\n",
       "      <td>FHQWRAP</td>\n",
       "      <td>ZP8</td>\n",
       "      <td>FAROL (09) PEÇA INCORRETA ¨</td>\n",
       "      <td>25-06-2024 13:09:25</td>\n",
       "    </tr>\n",
       "    <tr>\n",
       "      <th>992716</th>\n",
       "      <td>2024-2556363</td>\n",
       "      <td>T-CROSS</td>\n",
       "      <td>6UA1</td>\n",
       "      <td>CWL</td>\n",
       "      <td>SMT2</td>\n",
       "      <td>FHQWRAP</td>\n",
       "      <td>ZP8</td>\n",
       "      <td>SMART INSPECTION PEÇA NOK</td>\n",
       "      <td>25-06-2024 13:09:25</td>\n",
       "    </tr>\n",
       "    <tr>\n",
       "      <th>992717</th>\n",
       "      <td>2024-2546444</td>\n",
       "      <td>T-CROSS</td>\n",
       "      <td>2R2R</td>\n",
       "      <td>DHS</td>\n",
       "      <td>SMT2</td>\n",
       "      <td>FHQWRAP</td>\n",
       "      <td>ZP8</td>\n",
       "      <td>SMART INSPECTION PEÇA NOK</td>\n",
       "      <td>25-06-2024 13:10:35</td>\n",
       "    </tr>\n",
       "    <tr>\n",
       "      <th>992718</th>\n",
       "      <td>2024-2546444</td>\n",
       "      <td>T-CROSS</td>\n",
       "      <td>2R2R</td>\n",
       "      <td>DHS</td>\n",
       "      <td>SMT2</td>\n",
       "      <td>FHQWRAP</td>\n",
       "      <td>ZP8</td>\n",
       "      <td>FAROL DE NEBLINA (09) PEÇA INCORRETA ¨</td>\n",
       "      <td>25-06-2024 13:10:35</td>\n",
       "    </tr>\n",
       "    <tr>\n",
       "      <th>992719</th>\n",
       "      <td>2024-2546444</td>\n",
       "      <td>T-CROSS</td>\n",
       "      <td>2R2R</td>\n",
       "      <td>DHS</td>\n",
       "      <td>SMT2</td>\n",
       "      <td>FHQWRAP</td>\n",
       "      <td>ZP8</td>\n",
       "      <td>FAROL (09) PEÇA INCORRETA ¨</td>\n",
       "      <td>25-06-2024 13:10:35</td>\n",
       "    </tr>\n",
       "  </tbody>\n",
       "</table>\n",
       "<p>992720 rows × 9 columns</p>\n",
       "</div>"
      ],
      "text/plain": [
       "                 KNR   MODELO   COR MOTOR   ESTACAO  USUARIO HALLE  \\\n",
       "0       2023-1326197  T-CROSS  0Q0Q   DHS  PCEQS100  2043521   ZP5   \n",
       "1       2023-1326197  T-CROSS  0Q0Q   DHS  PCEQS100  2043521   ZP5   \n",
       "2       2023-4130482  AUDI Q3  2Y2Y   DSN  PCEQS999  2054701  ESPC   \n",
       "3       2023-4130482  AUDI Q3  2Y2Y   DSN  PCEQS999  2054701  ESPC   \n",
       "4       2023-4130664  AUDI Q3  6Y6Y   DSN  PCEQS805  7000240  ZP82   \n",
       "...              ...      ...   ...   ...       ...      ...   ...   \n",
       "992715  2024-2556363  T-CROSS  6UA1   CWL      SMT2  FHQWRAP  ZP8    \n",
       "992716  2024-2556363  T-CROSS  6UA1   CWL      SMT2  FHQWRAP  ZP8    \n",
       "992717  2024-2546444  T-CROSS  2R2R   DHS      SMT2  FHQWRAP  ZP8    \n",
       "992718  2024-2546444  T-CROSS  2R2R   DHS      SMT2  FHQWRAP  ZP8    \n",
       "992719  2024-2546444  T-CROSS  2R2R   DHS      SMT2  FHQWRAP  ZP8    \n",
       "\n",
       "                                                FALHA                 DATA  \n",
       "0                      Porta dianteira Folga (Ajuste)  09-01-2023 22:24:44  \n",
       "1                       Porta traseira Folga (Ajuste)  09-01-2023 22:25:02  \n",
       "2                        Lanterna tras (09) Interfere  10-01-2023 09:18:25  \n",
       "3       Emblema / logo - Adesivos em geral Solto(a) ¨  10-01-2023 09:18:40  \n",
       "4                       Painel instrumentos Ruído (-)  10-01-2023 11:17:56  \n",
       "...                                               ...                  ...  \n",
       "992715                    FAROL (09) PEÇA INCORRETA ¨  25-06-2024 13:09:25  \n",
       "992716                      SMART INSPECTION PEÇA NOK  25-06-2024 13:09:25  \n",
       "992717                      SMART INSPECTION PEÇA NOK  25-06-2024 13:10:35  \n",
       "992718         FAROL DE NEBLINA (09) PEÇA INCORRETA ¨  25-06-2024 13:10:35  \n",
       "992719                    FAROL (09) PEÇA INCORRETA ¨  25-06-2024 13:10:35  \n",
       "\n",
       "[992720 rows x 9 columns]"
      ]
     },
     "execution_count": 2,
     "metadata": {},
     "output_type": "execute_result"
    }
   ],
   "source": [
    "\n",
    "df_falhas = pd.read_csv('FALHAS.csv')\n",
    "df_falhas"
   ]
  },
  {
   "cell_type": "code",
   "execution_count": 3,
   "metadata": {},
   "outputs": [
    {
     "data": {
      "text/plain": [
       "(992720, 9)"
      ]
     },
     "execution_count": 3,
     "metadata": {},
     "output_type": "execute_result"
    }
   ],
   "source": [
    "df_falhas.shape"
   ]
  },
  {
   "cell_type": "code",
   "execution_count": 4,
   "metadata": {},
   "outputs": [
    {
     "data": {
      "text/plain": [
       "Index(['KNR', 'MODELO', 'COR', 'MOTOR', 'ESTACAO', 'USUARIO', 'HALLE', 'FALHA',\n",
       "       'DATA'],\n",
       "      dtype='object')"
      ]
     },
     "execution_count": 4,
     "metadata": {},
     "output_type": "execute_result"
    }
   ],
   "source": [
    "df_falhas.columns"
   ]
  },
  {
   "cell_type": "code",
   "execution_count": 5,
   "metadata": {},
   "outputs": [
    {
     "name": "stdout",
     "output_type": "stream",
     "text": [
      "<class 'pandas.core.frame.DataFrame'>\n",
      "RangeIndex: 992720 entries, 0 to 992719\n",
      "Data columns (total 9 columns):\n",
      " #   Column   Non-Null Count   Dtype \n",
      "---  ------   --------------   ----- \n",
      " 0   KNR      992720 non-null  object\n",
      " 1   MODELO   992720 non-null  object\n",
      " 2   COR      992720 non-null  object\n",
      " 3   MOTOR    992720 non-null  object\n",
      " 4   ESTACAO  992707 non-null  object\n",
      " 5   USUARIO  992707 non-null  object\n",
      " 6   HALLE    990868 non-null  object\n",
      " 7   FALHA    992710 non-null  object\n",
      " 8   DATA     992720 non-null  object\n",
      "dtypes: object(9)\n",
      "memory usage: 68.2+ MB\n"
     ]
    }
   ],
   "source": [
    "df_falhas.info()"
   ]
  },
  {
   "cell_type": "code",
   "execution_count": 6,
   "metadata": {},
   "outputs": [
    {
     "data": {
      "text/plain": [
       "KNR           0\n",
       "MODELO        0\n",
       "COR           0\n",
       "MOTOR         0\n",
       "ESTACAO      13\n",
       "USUARIO      13\n",
       "HALLE      1852\n",
       "FALHA        10\n",
       "DATA          0\n",
       "dtype: int64"
      ]
     },
     "execution_count": 6,
     "metadata": {},
     "output_type": "execute_result"
    }
   ],
   "source": [
    "df_falhas.isna().sum()"
   ]
  },
  {
   "cell_type": "code",
   "execution_count": 7,
   "metadata": {},
   "outputs": [
    {
     "data": {
      "text/plain": [
       "MODELO\n",
       "T-CROSS       986064\n",
       "T-CROSS PA      3439\n",
       "AUDI Q3         3217\n",
       "Name: count, dtype: int64"
      ]
     },
     "execution_count": 7,
     "metadata": {},
     "output_type": "execute_result"
    }
   ],
   "source": [
    "df_falhas['MODELO'].value_counts()"
   ]
  },
  {
   "cell_type": "code",
   "execution_count": 8,
   "metadata": {},
   "outputs": [
    {
     "data": {
      "text/plain": [
       "(990858, 9)"
      ]
     },
     "execution_count": 8,
     "metadata": {},
     "output_type": "execute_result"
    }
   ],
   "source": [
    "df_falhas_limpa = df_falhas.dropna()\n",
    "# df_falhas_limpa.shape()\n",
    "df_falhas_limpa.shape"
   ]
  },
  {
   "cell_type": "markdown",
   "metadata": {},
   "source": [
    "Com a remoção dos dados vazios houve foi deletado 1862 dados da tabela"
   ]
  },
  {
   "cell_type": "code",
   "execution_count": 9,
   "metadata": {},
   "outputs": [
    {
     "name": "stdout",
     "output_type": "stream",
     "text": [
      "<class 'pandas.core.frame.DataFrame'>\n",
      "Index: 990858 entries, 0 to 992719\n",
      "Data columns (total 9 columns):\n",
      " #   Column   Non-Null Count   Dtype \n",
      "---  ------   --------------   ----- \n",
      " 0   KNR      990858 non-null  object\n",
      " 1   MODELO   990858 non-null  object\n",
      " 2   COR      990858 non-null  object\n",
      " 3   MOTOR    990858 non-null  object\n",
      " 4   ESTACAO  990858 non-null  object\n",
      " 5   USUARIO  990858 non-null  object\n",
      " 6   HALLE    990858 non-null  object\n",
      " 7   FALHA    990858 non-null  object\n",
      " 8   DATA     990858 non-null  object\n",
      "dtypes: object(9)\n",
      "memory usage: 75.6+ MB\n"
     ]
    }
   ],
   "source": [
    "df_falhas_limpa.info()"
   ]
  },
  {
   "cell_type": "code",
   "execution_count": 10,
   "metadata": {},
   "outputs": [
    {
     "data": {
      "text/plain": [
       "array(['T-CROSS'], dtype=object)"
      ]
     },
     "execution_count": 10,
     "metadata": {},
     "output_type": "execute_result"
    }
   ],
   "source": [
    "df_falhas_limpa = df_falhas_limpa[df_falhas_limpa['MODELO'] == 'T-CROSS']\n",
    "df_falhas_limpa['MODELO'].unique()"
   ]
  },
  {
   "cell_type": "code",
   "execution_count": null,
   "metadata": {},
   "outputs": [],
   "source": []
  },
  {
   "cell_type": "markdown",
   "metadata": {},
   "source": [
    "## Base de dados Status\n"
   ]
  },
  {
   "cell_type": "code",
   "execution_count": null,
   "metadata": {},
   "outputs": [],
   "source": [
    "\n",
    "df_status = pd.read_csv('FALHAS.csv')\n",
    "df_status"
   ]
  },
  {
   "cell_type": "markdown",
   "metadata": {},
   "source": [
    "## Base de dados Resultados \n"
   ]
  },
  {
   "cell_type": "code",
   "execution_count": null,
   "metadata": {},
   "outputs": [],
   "source": [
    "\n",
    "df_resultados = pd.read_csv('RESULTS_MERGED.csv')\n",
    "df_resultados"
   ]
  }
 ],
 "metadata": {
  "kernelspec": {
   "display_name": "venv",
   "language": "python",
   "name": "python3"
  },
  "language_info": {
   "codemirror_mode": {
    "name": "ipython",
    "version": 3
   },
   "file_extension": ".py",
   "mimetype": "text/x-python",
   "name": "python",
   "nbconvert_exporter": "python",
   "pygments_lexer": "ipython3",
   "version": "3.11.9"
  }
 },
 "nbformat": 4,
 "nbformat_minor": 2
}
