{
 "cells": [
  {
   "cell_type": "markdown",
   "metadata": {},
   "source": [
    "# 1. Exploração e limpeza das bases de dados "
   ]
  },
  {
   "cell_type": "code",
   "execution_count": 50,
   "metadata": {},
   "outputs": [],
   "source": [
    "# importacao das dependencias\n",
    "import pandas as pd\n",
    "import numpy as np\n"
   ]
  },
  {
   "cell_type": "markdown",
   "metadata": {},
   "source": [
    "## Base de dados Falhas\n"
   ]
  },
  {
   "cell_type": "code",
   "execution_count": 51,
   "metadata": {},
   "outputs": [
    {
     "data": {
      "text/html": [
       "<div>\n",
       "<style scoped>\n",
       "    .dataframe tbody tr th:only-of-type {\n",
       "        vertical-align: middle;\n",
       "    }\n",
       "\n",
       "    .dataframe tbody tr th {\n",
       "        vertical-align: top;\n",
       "    }\n",
       "\n",
       "    .dataframe thead th {\n",
       "        text-align: right;\n",
       "    }\n",
       "</style>\n",
       "<table border=\"1\" class=\"dataframe\">\n",
       "  <thead>\n",
       "    <tr style=\"text-align: right;\">\n",
       "      <th></th>\n",
       "      <th>KNR</th>\n",
       "      <th>MODELO</th>\n",
       "      <th>COR</th>\n",
       "      <th>MOTOR</th>\n",
       "      <th>ESTACAO</th>\n",
       "      <th>USUARIO</th>\n",
       "      <th>HALLE</th>\n",
       "      <th>FALHA</th>\n",
       "      <th>DATA</th>\n",
       "    </tr>\n",
       "  </thead>\n",
       "  <tbody>\n",
       "    <tr>\n",
       "      <th>0</th>\n",
       "      <td>2023-1326197</td>\n",
       "      <td>T-CROSS</td>\n",
       "      <td>0Q0Q</td>\n",
       "      <td>DHS</td>\n",
       "      <td>PCEQS100</td>\n",
       "      <td>2043521</td>\n",
       "      <td>ZP5</td>\n",
       "      <td>Porta dianteira Folga (Ajuste)</td>\n",
       "      <td>09-01-2023 22:24:44</td>\n",
       "    </tr>\n",
       "    <tr>\n",
       "      <th>1</th>\n",
       "      <td>2023-1326197</td>\n",
       "      <td>T-CROSS</td>\n",
       "      <td>0Q0Q</td>\n",
       "      <td>DHS</td>\n",
       "      <td>PCEQS100</td>\n",
       "      <td>2043521</td>\n",
       "      <td>ZP5</td>\n",
       "      <td>Porta traseira Folga (Ajuste)</td>\n",
       "      <td>09-01-2023 22:25:02</td>\n",
       "    </tr>\n",
       "    <tr>\n",
       "      <th>2</th>\n",
       "      <td>2023-4130482</td>\n",
       "      <td>AUDI Q3</td>\n",
       "      <td>2Y2Y</td>\n",
       "      <td>DSN</td>\n",
       "      <td>PCEQS999</td>\n",
       "      <td>2054701</td>\n",
       "      <td>ESPC</td>\n",
       "      <td>Lanterna tras (09) Interfere</td>\n",
       "      <td>10-01-2023 09:18:25</td>\n",
       "    </tr>\n",
       "    <tr>\n",
       "      <th>3</th>\n",
       "      <td>2023-4130482</td>\n",
       "      <td>AUDI Q3</td>\n",
       "      <td>2Y2Y</td>\n",
       "      <td>DSN</td>\n",
       "      <td>PCEQS999</td>\n",
       "      <td>2054701</td>\n",
       "      <td>ESPC</td>\n",
       "      <td>Emblema / logo - Adesivos em geral Solto(a) ¨</td>\n",
       "      <td>10-01-2023 09:18:40</td>\n",
       "    </tr>\n",
       "    <tr>\n",
       "      <th>4</th>\n",
       "      <td>2023-4130664</td>\n",
       "      <td>AUDI Q3</td>\n",
       "      <td>6Y6Y</td>\n",
       "      <td>DSN</td>\n",
       "      <td>PCEQS805</td>\n",
       "      <td>7000240</td>\n",
       "      <td>ZP82</td>\n",
       "      <td>Painel instrumentos Ruído (-)</td>\n",
       "      <td>10-01-2023 11:17:56</td>\n",
       "    </tr>\n",
       "    <tr>\n",
       "      <th>...</th>\n",
       "      <td>...</td>\n",
       "      <td>...</td>\n",
       "      <td>...</td>\n",
       "      <td>...</td>\n",
       "      <td>...</td>\n",
       "      <td>...</td>\n",
       "      <td>...</td>\n",
       "      <td>...</td>\n",
       "      <td>...</td>\n",
       "    </tr>\n",
       "    <tr>\n",
       "      <th>992715</th>\n",
       "      <td>2024-2556363</td>\n",
       "      <td>T-CROSS</td>\n",
       "      <td>6UA1</td>\n",
       "      <td>CWL</td>\n",
       "      <td>SMT2</td>\n",
       "      <td>FHQWRAP</td>\n",
       "      <td>ZP8</td>\n",
       "      <td>FAROL (09) PEÇA INCORRETA ¨</td>\n",
       "      <td>25-06-2024 13:09:25</td>\n",
       "    </tr>\n",
       "    <tr>\n",
       "      <th>992716</th>\n",
       "      <td>2024-2556363</td>\n",
       "      <td>T-CROSS</td>\n",
       "      <td>6UA1</td>\n",
       "      <td>CWL</td>\n",
       "      <td>SMT2</td>\n",
       "      <td>FHQWRAP</td>\n",
       "      <td>ZP8</td>\n",
       "      <td>SMART INSPECTION PEÇA NOK</td>\n",
       "      <td>25-06-2024 13:09:25</td>\n",
       "    </tr>\n",
       "    <tr>\n",
       "      <th>992717</th>\n",
       "      <td>2024-2546444</td>\n",
       "      <td>T-CROSS</td>\n",
       "      <td>2R2R</td>\n",
       "      <td>DHS</td>\n",
       "      <td>SMT2</td>\n",
       "      <td>FHQWRAP</td>\n",
       "      <td>ZP8</td>\n",
       "      <td>SMART INSPECTION PEÇA NOK</td>\n",
       "      <td>25-06-2024 13:10:35</td>\n",
       "    </tr>\n",
       "    <tr>\n",
       "      <th>992718</th>\n",
       "      <td>2024-2546444</td>\n",
       "      <td>T-CROSS</td>\n",
       "      <td>2R2R</td>\n",
       "      <td>DHS</td>\n",
       "      <td>SMT2</td>\n",
       "      <td>FHQWRAP</td>\n",
       "      <td>ZP8</td>\n",
       "      <td>FAROL DE NEBLINA (09) PEÇA INCORRETA ¨</td>\n",
       "      <td>25-06-2024 13:10:35</td>\n",
       "    </tr>\n",
       "    <tr>\n",
       "      <th>992719</th>\n",
       "      <td>2024-2546444</td>\n",
       "      <td>T-CROSS</td>\n",
       "      <td>2R2R</td>\n",
       "      <td>DHS</td>\n",
       "      <td>SMT2</td>\n",
       "      <td>FHQWRAP</td>\n",
       "      <td>ZP8</td>\n",
       "      <td>FAROL (09) PEÇA INCORRETA ¨</td>\n",
       "      <td>25-06-2024 13:10:35</td>\n",
       "    </tr>\n",
       "  </tbody>\n",
       "</table>\n",
       "<p>992720 rows × 9 columns</p>\n",
       "</div>"
      ],
      "text/plain": [
       "                 KNR   MODELO   COR MOTOR   ESTACAO  USUARIO HALLE  \\\n",
       "0       2023-1326197  T-CROSS  0Q0Q   DHS  PCEQS100  2043521   ZP5   \n",
       "1       2023-1326197  T-CROSS  0Q0Q   DHS  PCEQS100  2043521   ZP5   \n",
       "2       2023-4130482  AUDI Q3  2Y2Y   DSN  PCEQS999  2054701  ESPC   \n",
       "3       2023-4130482  AUDI Q3  2Y2Y   DSN  PCEQS999  2054701  ESPC   \n",
       "4       2023-4130664  AUDI Q3  6Y6Y   DSN  PCEQS805  7000240  ZP82   \n",
       "...              ...      ...   ...   ...       ...      ...   ...   \n",
       "992715  2024-2556363  T-CROSS  6UA1   CWL      SMT2  FHQWRAP  ZP8    \n",
       "992716  2024-2556363  T-CROSS  6UA1   CWL      SMT2  FHQWRAP  ZP8    \n",
       "992717  2024-2546444  T-CROSS  2R2R   DHS      SMT2  FHQWRAP  ZP8    \n",
       "992718  2024-2546444  T-CROSS  2R2R   DHS      SMT2  FHQWRAP  ZP8    \n",
       "992719  2024-2546444  T-CROSS  2R2R   DHS      SMT2  FHQWRAP  ZP8    \n",
       "\n",
       "                                                FALHA                 DATA  \n",
       "0                      Porta dianteira Folga (Ajuste)  09-01-2023 22:24:44  \n",
       "1                       Porta traseira Folga (Ajuste)  09-01-2023 22:25:02  \n",
       "2                        Lanterna tras (09) Interfere  10-01-2023 09:18:25  \n",
       "3       Emblema / logo - Adesivos em geral Solto(a) ¨  10-01-2023 09:18:40  \n",
       "4                       Painel instrumentos Ruído (-)  10-01-2023 11:17:56  \n",
       "...                                               ...                  ...  \n",
       "992715                    FAROL (09) PEÇA INCORRETA ¨  25-06-2024 13:09:25  \n",
       "992716                      SMART INSPECTION PEÇA NOK  25-06-2024 13:09:25  \n",
       "992717                      SMART INSPECTION PEÇA NOK  25-06-2024 13:10:35  \n",
       "992718         FAROL DE NEBLINA (09) PEÇA INCORRETA ¨  25-06-2024 13:10:35  \n",
       "992719                    FAROL (09) PEÇA INCORRETA ¨  25-06-2024 13:10:35  \n",
       "\n",
       "[992720 rows x 9 columns]"
      ]
     },
     "execution_count": 51,
     "metadata": {},
     "output_type": "execute_result"
    }
   ],
   "source": [
    "# Leitura da base de daddos falhas\n",
    "df_falhas = pd.read_csv('FALHAS.csv')\n",
    "df_falhas"
   ]
  },
  {
   "cell_type": "code",
   "execution_count": 52,
   "metadata": {},
   "outputs": [
    {
     "data": {
      "text/plain": [
       "(992720, 9)"
      ]
     },
     "execution_count": 52,
     "metadata": {},
     "output_type": "execute_result"
    }
   ],
   "source": [
    "# Visualizacao da forma da base de dados para saber com que estamos lidando\n",
    "df_falhas.shape"
   ]
  },
  {
   "cell_type": "code",
   "execution_count": 53,
   "metadata": {},
   "outputs": [
    {
     "data": {
      "text/plain": [
       "Index(['KNR', 'MODELO', 'COR', 'MOTOR', 'ESTACAO', 'USUARIO', 'HALLE', 'FALHA',\n",
       "       'DATA'],\n",
       "      dtype='object')"
      ]
     },
     "execution_count": 53,
     "metadata": {},
     "output_type": "execute_result"
    }
   ],
   "source": [
    "# Para saber que os dados que estao dispostos para trabalharmos\n",
    "df_falhas.columns"
   ]
  },
  {
   "cell_type": "code",
   "execution_count": 54,
   "metadata": {},
   "outputs": [
    {
     "name": "stdout",
     "output_type": "stream",
     "text": [
      "<class 'pandas.core.frame.DataFrame'>\n",
      "RangeIndex: 992720 entries, 0 to 992719\n",
      "Data columns (total 9 columns):\n",
      " #   Column   Non-Null Count   Dtype \n",
      "---  ------   --------------   ----- \n",
      " 0   KNR      992720 non-null  object\n",
      " 1   MODELO   992720 non-null  object\n",
      " 2   COR      992720 non-null  object\n",
      " 3   MOTOR    992720 non-null  object\n",
      " 4   ESTACAO  992707 non-null  object\n",
      " 5   USUARIO  992707 non-null  object\n",
      " 6   HALLE    990868 non-null  object\n",
      " 7   FALHA    992710 non-null  object\n",
      " 8   DATA     992720 non-null  object\n",
      "dtypes: object(9)\n",
      "memory usage: 68.2+ MB\n"
     ]
    }
   ],
   "source": [
    "# Saber os tipos de cada coluna para ter nocao do que vamos lidar \n",
    "df_falhas.info()"
   ]
  },
  {
   "cell_type": "code",
   "execution_count": 55,
   "metadata": {},
   "outputs": [
    {
     "data": {
      "text/plain": [
       "KNR           0\n",
       "MODELO        0\n",
       "COR           0\n",
       "MOTOR         0\n",
       "ESTACAO      13\n",
       "USUARIO      13\n",
       "HALLE      1852\n",
       "FALHA        10\n",
       "DATA          0\n",
       "dtype: int64"
      ]
     },
     "execution_count": 55,
     "metadata": {},
     "output_type": "execute_result"
    }
   ],
   "source": [
    "# Ter informacoes de quais dados sao nulos e sua quantidade para saber quatos irao ser descartados\n",
    "df_falhas.isna().sum()"
   ]
  },
  {
   "cell_type": "code",
   "execution_count": 56,
   "metadata": {},
   "outputs": [
    {
     "data": {
      "text/plain": [
       "MODELO\n",
       "T-CROSS       986064\n",
       "T-CROSS PA      3439\n",
       "AUDI Q3         3217\n",
       "Name: count, dtype: int64"
      ]
     },
     "execution_count": 56,
     "metadata": {},
     "output_type": "execute_result"
    }
   ],
   "source": [
    "# visualizar quais modelos estao dispostos na base de dados \n",
    "df_falhas['MODELO'].value_counts()"
   ]
  },
  {
   "cell_type": "code",
   "execution_count": 57,
   "metadata": {},
   "outputs": [
    {
     "data": {
      "text/plain": [
       "(990858, 9)"
      ]
     },
     "execution_count": 57,
     "metadata": {},
     "output_type": "execute_result"
    }
   ],
   "source": [
    "# Limpar a base de dados para excluir todos os campos que estao vazios\n",
    "df_falhas_limpa = df_falhas.dropna()\n",
    "# df_falhas_limpa.shape()\n",
    "df_falhas_limpa.shape"
   ]
  },
  {
   "cell_type": "markdown",
   "metadata": {},
   "source": [
    "Com a remoção dos dados vazios houve foi deletado 1862 dados da tabela"
   ]
  },
  {
   "cell_type": "code",
   "execution_count": 58,
   "metadata": {},
   "outputs": [
    {
     "name": "stdout",
     "output_type": "stream",
     "text": [
      "<class 'pandas.core.frame.DataFrame'>\n",
      "Index: 990858 entries, 0 to 992719\n",
      "Data columns (total 9 columns):\n",
      " #   Column   Non-Null Count   Dtype \n",
      "---  ------   --------------   ----- \n",
      " 0   KNR      990858 non-null  object\n",
      " 1   MODELO   990858 non-null  object\n",
      " 2   COR      990858 non-null  object\n",
      " 3   MOTOR    990858 non-null  object\n",
      " 4   ESTACAO  990858 non-null  object\n",
      " 5   USUARIO  990858 non-null  object\n",
      " 6   HALLE    990858 non-null  object\n",
      " 7   FALHA    990858 non-null  object\n",
      " 8   DATA     990858 non-null  object\n",
      "dtypes: object(9)\n",
      "memory usage: 75.6+ MB\n"
     ]
    }
   ],
   "source": [
    "# Ter mais informacoes sobre como os dados estao organizados em seus tipos\n",
    "df_falhas_limpa.info()"
   ]
  },
  {
   "cell_type": "code",
   "execution_count": 59,
   "metadata": {},
   "outputs": [
    {
     "data": {
      "text/plain": [
       "array(['T-CROSS'], dtype=object)"
      ]
     },
     "execution_count": 59,
     "metadata": {},
     "output_type": "execute_result"
    }
   ],
   "source": [
    "# Pegar somente os dados do tipo T-Cross, pois sera o foco da analise\n",
    "df_falhas_limpa = df_falhas_limpa[df_falhas_limpa['MODELO'] == 'T-CROSS']\n",
    "df_falhas_limpa['MODELO'].unique()"
   ]
  },
  {
   "cell_type": "code",
   "execution_count": 60,
   "metadata": {},
   "outputs": [
    {
     "data": {
      "text/plain": [
       "7196"
      ]
     },
     "execution_count": 60,
     "metadata": {},
     "output_type": "execute_result"
    }
   ],
   "source": [
    "# Visualizar quantos tipos de falhas diferentes há na base de dados\n",
    "total_falhas= df_falhas_limpa['FALHA'].unique()\n",
    "len(total_falhas)"
   ]
  },
  {
   "cell_type": "code",
   "execution_count": 61,
   "metadata": {},
   "outputs": [
    {
     "data": {
      "text/plain": [
       "FALHA\n",
       "Painel lateral Sujeira na pintura                              30645\n",
       "Painel lateral 04. Caroço / Pico                               27467\n",
       "PAINEL LATERAL 05. SUJEIRA NA PINTURA                          20483\n",
       "Painel lateral 01. Amassado                                    15979\n",
       "Painel lateral 05. Sujeira na pintura                          15126\n",
       "                                                               ...  \n",
       "Teclas do volante Função NOK                                       1\n",
       "TECLAS DO VOLANTE FUNÇÃO NOK                                       1\n",
       "Chapa defletora de calor Montagem NOK                              1\n",
       "Buzina do alarme & Peça NOK                                        1\n",
       "CABO VÍDEO CÂMERA DE RÉ (56/5F)(6C) CONECTOR DANIFICADO (&)        1\n",
       "Name: count, Length: 7196, dtype: int64"
      ]
     },
     "execution_count": 61,
     "metadata": {},
     "output_type": "execute_result"
    }
   ],
   "source": [
    "# visualizar qual tipo de falha é a mais comum \n",
    "df_falhas_limpa['FALHA'].value_counts()"
   ]
  },
  {
   "cell_type": "markdown",
   "metadata": {},
   "source": [
    "## Base de dados Status\n"
   ]
  },
  {
   "cell_type": "code",
   "execution_count": 105,
   "metadata": {},
   "outputs": [
    {
     "name": "stderr",
     "output_type": "stream",
     "text": [
      "c:\\Users\\Inteli\\Documents\\GitHub\\2024-2A-T08-EC07-G02\\venv\\Lib\\site-packages\\openpyxl\\styles\\stylesheet.py:237: UserWarning: Workbook contains no default style, apply openpyxl's default\n",
      "  warn(\"Workbook contains no default style, apply openpyxl's default\")\n"
     ]
    },
    {
     "data": {
      "text/html": [
       "<div>\n",
       "<style scoped>\n",
       "    .dataframe tbody tr th:only-of-type {\n",
       "        vertical-align: middle;\n",
       "    }\n",
       "\n",
       "    .dataframe tbody tr th {\n",
       "        vertical-align: top;\n",
       "    }\n",
       "\n",
       "    .dataframe thead th {\n",
       "        text-align: right;\n",
       "    }\n",
       "</style>\n",
       "<table border=\"1\" class=\"dataframe\">\n",
       "  <thead>\n",
       "    <tr style=\"text-align: right;\">\n",
       "      <th></th>\n",
       "      <th>Unnamed: 0</th>\n",
       "      <th>Unnamed: 1</th>\n",
       "      <th>Unnamed: 2</th>\n",
       "      <th>Unnamed: 3</th>\n",
       "    </tr>\n",
       "  </thead>\n",
       "  <tbody>\n",
       "    <tr>\n",
       "      <th>0</th>\n",
       "      <td>NaN</td>\n",
       "      <td>KNR</td>\n",
       "      <td>STATUS</td>\n",
       "      <td>DATA</td>\n",
       "    </tr>\n",
       "    <tr>\n",
       "      <th>1</th>\n",
       "      <td>NaN</td>\n",
       "      <td>2023-2016173</td>\n",
       "      <td>G620</td>\n",
       "      <td>2023-06-06 07:50:27</td>\n",
       "    </tr>\n",
       "    <tr>\n",
       "      <th>2</th>\n",
       "      <td>NaN</td>\n",
       "      <td>2023-2016173</td>\n",
       "      <td>M620</td>\n",
       "      <td>2023-06-06 07:50:27</td>\n",
       "    </tr>\n",
       "    <tr>\n",
       "      <th>3</th>\n",
       "      <td>NaN</td>\n",
       "      <td>2023-2026032</td>\n",
       "      <td>G620</td>\n",
       "      <td>2023-06-20 17:35:51</td>\n",
       "    </tr>\n",
       "    <tr>\n",
       "      <th>4</th>\n",
       "      <td>NaN</td>\n",
       "      <td>2023-2026032</td>\n",
       "      <td>M620</td>\n",
       "      <td>2023-06-20 17:35:51</td>\n",
       "    </tr>\n",
       "    <tr>\n",
       "      <th>...</th>\n",
       "      <td>...</td>\n",
       "      <td>...</td>\n",
       "      <td>...</td>\n",
       "      <td>...</td>\n",
       "    </tr>\n",
       "    <tr>\n",
       "      <th>1048569</th>\n",
       "      <td>NaN</td>\n",
       "      <td>2023-4026001</td>\n",
       "      <td>G800</td>\n",
       "      <td>2023-10-05 06:18:10</td>\n",
       "    </tr>\n",
       "    <tr>\n",
       "      <th>1048570</th>\n",
       "      <td>NaN</td>\n",
       "      <td>2023-4026002</td>\n",
       "      <td>A600</td>\n",
       "      <td>2023-09-28 14:32:41</td>\n",
       "    </tr>\n",
       "    <tr>\n",
       "      <th>1048571</th>\n",
       "      <td>NaN</td>\n",
       "      <td>2023-4026002</td>\n",
       "      <td>R100</td>\n",
       "      <td>2023-09-28 14:32:42</td>\n",
       "    </tr>\n",
       "    <tr>\n",
       "      <th>1048572</th>\n",
       "      <td>NaN</td>\n",
       "      <td>2023-4026002</td>\n",
       "      <td>R120</td>\n",
       "      <td>2023-09-29 00:09:03</td>\n",
       "    </tr>\n",
       "    <tr>\n",
       "      <th>1048573</th>\n",
       "      <td>NaN</td>\n",
       "      <td>2023-4026002</td>\n",
       "      <td>R480</td>\n",
       "      <td>2023-09-29 07:02:34</td>\n",
       "    </tr>\n",
       "  </tbody>\n",
       "</table>\n",
       "<p>1048574 rows × 4 columns</p>\n",
       "</div>"
      ],
      "text/plain": [
       "         Unnamed: 0    Unnamed: 1 Unnamed: 2           Unnamed: 3\n",
       "0               NaN           KNR     STATUS                 DATA\n",
       "1               NaN  2023-2016173       G620  2023-06-06 07:50:27\n",
       "2               NaN  2023-2016173       M620  2023-06-06 07:50:27\n",
       "3               NaN  2023-2026032       G620  2023-06-20 17:35:51\n",
       "4               NaN  2023-2026032       M620  2023-06-20 17:35:51\n",
       "...             ...           ...        ...                  ...\n",
       "1048569         NaN  2023-4026001       G800  2023-10-05 06:18:10\n",
       "1048570         NaN  2023-4026002       A600  2023-09-28 14:32:41\n",
       "1048571         NaN  2023-4026002       R100  2023-09-28 14:32:42\n",
       "1048572         NaN  2023-4026002       R120  2023-09-29 00:09:03\n",
       "1048573         NaN  2023-4026002       R480  2023-09-29 07:02:34\n",
       "\n",
       "[1048574 rows x 4 columns]"
      ]
     },
     "execution_count": 105,
     "metadata": {},
     "output_type": "execute_result"
    }
   ],
   "source": [
    "df_status = pd.read_excel('STATUS_PREDICTOR_ANO.xlsx')\n",
    "df_status\n"
   ]
  },
  {
   "cell_type": "code",
   "execution_count": 110,
   "metadata": {},
   "outputs": [
    {
     "data": {
      "text/plain": [
       "Index(['KNR', 'STATUS', 'DATA'], dtype='object')"
      ]
     },
     "execution_count": 110,
     "metadata": {},
     "output_type": "execute_result"
    }
   ],
   "source": [
    "\n",
    "df_status = pd.read_csv('STATUS_PREDICTOR_ANO.csv')\n",
    "# df_status = df_status.drop(df_status.columns[0], axis=1)\n",
    "# df_status = df_status.drop(1, axis=0)\n",
    "# df_status = df_status.dropna(axis=1, how='all')\n",
    "df_status.columns"
   ]
  },
  {
   "cell_type": "code",
   "execution_count": 111,
   "metadata": {},
   "outputs": [
    {
     "data": {
      "text/html": [
       "<div>\n",
       "<style scoped>\n",
       "    .dataframe tbody tr th:only-of-type {\n",
       "        vertical-align: middle;\n",
       "    }\n",
       "\n",
       "    .dataframe tbody tr th {\n",
       "        vertical-align: top;\n",
       "    }\n",
       "\n",
       "    .dataframe thead th {\n",
       "        text-align: right;\n",
       "    }\n",
       "</style>\n",
       "<table border=\"1\" class=\"dataframe\">\n",
       "  <thead>\n",
       "    <tr style=\"text-align: right;\">\n",
       "      <th></th>\n",
       "      <th>KNR</th>\n",
       "      <th>STATUS</th>\n",
       "      <th>DATA</th>\n",
       "    </tr>\n",
       "  </thead>\n",
       "  <tbody>\n",
       "    <tr>\n",
       "      <th>NaN</th>\n",
       "      <td>2023-2016173</td>\n",
       "      <td>G620</td>\n",
       "      <td>2023-06-06 07:50:27</td>\n",
       "    </tr>\n",
       "    <tr>\n",
       "      <th>NaN</th>\n",
       "      <td>2023-2016173</td>\n",
       "      <td>M620</td>\n",
       "      <td>2023-06-06 07:50:27</td>\n",
       "    </tr>\n",
       "    <tr>\n",
       "      <th>NaN</th>\n",
       "      <td>2023-2026032</td>\n",
       "      <td>G620</td>\n",
       "      <td>2023-06-20 17:35:51</td>\n",
       "    </tr>\n",
       "    <tr>\n",
       "      <th>NaN</th>\n",
       "      <td>2023-2026032</td>\n",
       "      <td>M620</td>\n",
       "      <td>2023-06-20 17:35:51</td>\n",
       "    </tr>\n",
       "    <tr>\n",
       "      <th>NaN</th>\n",
       "      <td>2023-2026085</td>\n",
       "      <td>G620</td>\n",
       "      <td>2023-06-22 20:22:36</td>\n",
       "    </tr>\n",
       "    <tr>\n",
       "      <th>...</th>\n",
       "      <td>...</td>\n",
       "      <td>...</td>\n",
       "      <td>...</td>\n",
       "    </tr>\n",
       "    <tr>\n",
       "      <th>NaN</th>\n",
       "      <td>2023-4026001</td>\n",
       "      <td>G800</td>\n",
       "      <td>2023-10-05 06:18:10</td>\n",
       "    </tr>\n",
       "    <tr>\n",
       "      <th>NaN</th>\n",
       "      <td>2023-4026002</td>\n",
       "      <td>A600</td>\n",
       "      <td>2023-09-28 14:32:41</td>\n",
       "    </tr>\n",
       "    <tr>\n",
       "      <th>NaN</th>\n",
       "      <td>2023-4026002</td>\n",
       "      <td>R100</td>\n",
       "      <td>2023-09-28 14:32:42</td>\n",
       "    </tr>\n",
       "    <tr>\n",
       "      <th>NaN</th>\n",
       "      <td>2023-4026002</td>\n",
       "      <td>R120</td>\n",
       "      <td>2023-09-29 00:09:03</td>\n",
       "    </tr>\n",
       "    <tr>\n",
       "      <th>NaN</th>\n",
       "      <td>2023-4026002</td>\n",
       "      <td>R480</td>\n",
       "      <td>2023-09-29 07:02:34</td>\n",
       "    </tr>\n",
       "  </tbody>\n",
       "</table>\n",
       "<p>1048573 rows × 3 columns</p>\n",
       "</div>"
      ],
      "text/plain": [
       "              KNR STATUS                 DATA\n",
       "NaN  2023-2016173   G620  2023-06-06 07:50:27\n",
       "NaN  2023-2016173   M620  2023-06-06 07:50:27\n",
       "NaN  2023-2026032   G620  2023-06-20 17:35:51\n",
       "NaN  2023-2026032   M620  2023-06-20 17:35:51\n",
       "NaN  2023-2026085   G620  2023-06-22 20:22:36\n",
       "..            ...    ...                  ...\n",
       "NaN  2023-4026001   G800  2023-10-05 06:18:10\n",
       "NaN  2023-4026002   A600  2023-09-28 14:32:41\n",
       "NaN  2023-4026002   R100  2023-09-28 14:32:42\n",
       "NaN  2023-4026002   R120  2023-09-29 00:09:03\n",
       "NaN  2023-4026002   R480  2023-09-29 07:02:34\n",
       "\n",
       "[1048573 rows x 3 columns]"
      ]
     },
     "execution_count": 111,
     "metadata": {},
     "output_type": "execute_result"
    }
   ],
   "source": [
    "df_status"
   ]
  },
  {
   "cell_type": "code",
   "execution_count": 69,
   "metadata": {},
   "outputs": [],
   "source": []
  },
  {
   "cell_type": "markdown",
   "metadata": {},
   "source": [
    "## Base de dados Resultados \n"
   ]
  },
  {
   "cell_type": "code",
   "execution_count": 63,
   "metadata": {},
   "outputs": [],
   "source": [
    "\n",
    "# df_resultados = pd.read_csv('RESULTS_MERGED.csv')\n",
    "# df_resultados"
   ]
  }
 ],
 "metadata": {
  "kernelspec": {
   "display_name": "venv",
   "language": "python",
   "name": "python3"
  },
  "language_info": {
   "codemirror_mode": {
    "name": "ipython",
    "version": 3
   },
   "file_extension": ".py",
   "mimetype": "text/x-python",
   "name": "python",
   "nbconvert_exporter": "python",
   "pygments_lexer": "ipython3",
   "version": "3.11.9"
  }
 },
 "nbformat": 4,
 "nbformat_minor": 2
}
