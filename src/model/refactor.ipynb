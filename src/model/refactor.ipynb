{
 "cells": [
  {
   "cell_type": "code",
   "execution_count": 9,
   "metadata": {},
   "outputs": [
    {
     "name": "stdout",
     "output_type": "stream",
     "text": [
      "Requirement already satisfied: pandas in ./venv/lib/python3.12/site-packages (2.2.2)\n",
      "Requirement already satisfied: numpy in ./venv/lib/python3.12/site-packages (2.1.0)\n",
      "Requirement already satisfied: scikit-learn in ./venv/lib/python3.12/site-packages (1.5.1)\n",
      "Requirement already satisfied: matplotlib in ./venv/lib/python3.12/site-packages (3.9.2)\n",
      "Requirement already satisfied: openpyxl in ./venv/lib/python3.12/site-packages (3.1.5)\n",
      "Collecting python-calamine\n",
      "  Downloading python_calamine-0.2.3-cp312-cp312-manylinux_2_17_x86_64.manylinux2014_x86_64.whl.metadata (3.1 kB)\n",
      "Requirement already satisfied: python-dateutil>=2.8.2 in ./venv/lib/python3.12/site-packages (from pandas) (2.9.0.post0)\n",
      "Requirement already satisfied: pytz>=2020.1 in ./venv/lib/python3.12/site-packages (from pandas) (2024.1)\n",
      "Requirement already satisfied: tzdata>=2022.7 in ./venv/lib/python3.12/site-packages (from pandas) (2024.1)\n",
      "Requirement already satisfied: scipy>=1.6.0 in ./venv/lib/python3.12/site-packages (from scikit-learn) (1.14.1)\n",
      "Requirement already satisfied: joblib>=1.2.0 in ./venv/lib/python3.12/site-packages (from scikit-learn) (1.4.2)\n",
      "Requirement already satisfied: threadpoolctl>=3.1.0 in ./venv/lib/python3.12/site-packages (from scikit-learn) (3.5.0)\n",
      "Requirement already satisfied: contourpy>=1.0.1 in ./venv/lib/python3.12/site-packages (from matplotlib) (1.3.0)\n",
      "Requirement already satisfied: cycler>=0.10 in ./venv/lib/python3.12/site-packages (from matplotlib) (0.12.1)\n",
      "Requirement already satisfied: fonttools>=4.22.0 in ./venv/lib/python3.12/site-packages (from matplotlib) (4.53.1)\n",
      "Requirement already satisfied: kiwisolver>=1.3.1 in ./venv/lib/python3.12/site-packages (from matplotlib) (1.4.5)\n",
      "Requirement already satisfied: packaging>=20.0 in ./venv/lib/python3.12/site-packages (from matplotlib) (24.1)\n",
      "Requirement already satisfied: pillow>=8 in ./venv/lib/python3.12/site-packages (from matplotlib) (10.2.0)\n",
      "Requirement already satisfied: pyparsing>=2.3.1 in ./venv/lib/python3.12/site-packages (from matplotlib) (3.1.4)\n",
      "Requirement already satisfied: et-xmlfile in ./venv/lib/python3.12/site-packages (from openpyxl) (1.1.0)\n",
      "Requirement already satisfied: six>=1.5 in ./venv/lib/python3.12/site-packages (from python-dateutil>=2.8.2->pandas) (1.16.0)\n",
      "Downloading python_calamine-0.2.3-cp312-cp312-manylinux_2_17_x86_64.manylinux2014_x86_64.whl (819 kB)\n",
      "\u001b[2K   \u001b[90m━━━━━━━━━━━━━━━━━━━━━━━━━━━━━━━━━━━━━━━━\u001b[0m \u001b[32m819.5/819.5 kB\u001b[0m \u001b[31m18.9 MB/s\u001b[0m eta \u001b[36m0:00:00\u001b[0ma \u001b[36m0:00:01\u001b[0m\n",
      "\u001b[?25hInstalling collected packages: python-calamine\n",
      "Successfully installed python-calamine-0.2.3\n",
      "Note: you may need to restart the kernel to use updated packages.\n",
      "Looking in indexes: https://download.pytorch.org/whl/cpu\n",
      "Requirement already satisfied: torch in ./venv/lib/python3.12/site-packages (2.4.0+cpu)\n",
      "Requirement already satisfied: torchvision in ./venv/lib/python3.12/site-packages (0.19.0+cpu)\n",
      "Requirement already satisfied: torchaudio in ./venv/lib/python3.12/site-packages (2.4.0+cpu)\n",
      "Requirement already satisfied: filelock in ./venv/lib/python3.12/site-packages (from torch) (3.13.1)\n",
      "Requirement already satisfied: typing-extensions>=4.8.0 in ./venv/lib/python3.12/site-packages (from torch) (4.9.0)\n",
      "Requirement already satisfied: sympy in ./venv/lib/python3.12/site-packages (from torch) (1.12)\n",
      "Requirement already satisfied: networkx in ./venv/lib/python3.12/site-packages (from torch) (3.2.1)\n",
      "Requirement already satisfied: jinja2 in ./venv/lib/python3.12/site-packages (from torch) (3.1.3)\n",
      "Requirement already satisfied: fsspec in ./venv/lib/python3.12/site-packages (from torch) (2024.2.0)\n",
      "Requirement already satisfied: setuptools in ./venv/lib/python3.12/site-packages (from torch) (70.0.0)\n",
      "Requirement already satisfied: numpy in ./venv/lib/python3.12/site-packages (from torchvision) (2.1.0)\n",
      "Requirement already satisfied: pillow!=8.3.*,>=5.3.0 in ./venv/lib/python3.12/site-packages (from torchvision) (10.2.0)\n",
      "Requirement already satisfied: MarkupSafe>=2.0 in ./venv/lib/python3.12/site-packages (from jinja2->torch) (2.1.5)\n",
      "Requirement already satisfied: mpmath>=0.19 in ./venv/lib/python3.12/site-packages (from sympy->torch) (1.3.0)\n",
      "Note: you may need to restart the kernel to use updated packages.\n"
     ]
    }
   ],
   "source": [
    "%pip install pandas numpy scikit-learn matplotlib openpyxl\n",
    "%pip install torch torchvision torchaudio --index-url https://download.pytorch.org/whl/cpu"
   ]
  },
  {
   "cell_type": "code",
   "execution_count": 11,
   "metadata": {},
   "outputs": [],
   "source": [
    "import pandas as pd\n",
    "import numpy as np"
   ]
  },
  {
   "cell_type": "code",
   "execution_count": 17,
   "metadata": {},
   "outputs": [
    {
     "name": "stdout",
     "output_type": "stream",
     "text": [
      "Processing RESULTADOS_04_06_2024.xlsx\n",
      "Processing sheet Relatório 1\n"
     ]
    }
   ],
   "source": [
    "\n",
    "BASE_PATH = 'temp/'\n",
    "files = ['RESULTADOS_04_06_2024.xlsx', 'RESULTADOS_02_03_2024.xlsx']\n",
    "RESULTS_HEADER = ['KNR', 'NAME', 'ID', 'STATUS', 'UNIT', 'VALUE_ID', 'VALUE', 'DATA']\n",
    "\n",
    "def read_excel_sheets(file_path):\n",
    "    excel_data = pd.ExcelFile(f'{BASE_PATH}{file_path}')\n",
    "    df_list = []\n",
    "    for sheet in excel_data.sheet_names:\n",
    "        print(f'Processing sheet {sheet}')\n",
    "        df = pd.read_excel(excel_data, sheet_name=sheet, header=0)\n",
    "        df = df.iloc[2:, 1:]\n",
    "        df.columns = RESULTS_HEADER\n",
    "        df_list.append(df)\n",
    "        print(f'Processed {df.shape[0]} rows')\n",
    "    print(f'Processed {len(df_list)} sheets')\n",
    "    return pd.concat(df_list, ignore_index=True)\n",
    "\n",
    "for file in files:\n",
    "    print(f'Processing {file}')\n",
    "    data = read_excel_sheets(file)\n",
    "    data = data[RESULTS_HEADER]\n",
    "    print(f'Saving {file}')\n",
    "    data.to_csv(f'{BASE_PATH}{file}.csv', index=False)"
   ]
  },
  {
   "cell_type": "code",
   "execution_count": null,
   "metadata": {},
   "outputs": [],
   "source": [
    "csv_file = 'RESULTS_MERGED.csv'\n",
    "\n",
    "for i, df in enumerate(excel_df):\n",
    "    print(f'Processing file {i}')\n",
    "    df.to_csv(f'{BASE_PATH}{csv_file}', mode='a', header=False, index=False)\n"
   ]
  },
  {
   "cell_type": "code",
   "execution_count": null,
   "metadata": {},
   "outputs": [],
   "source": [
    "FAILURES_FILEPATH = 'temp/FALHAS.csv'\n",
    "\n",
    "failures_df = pd.read_csv(FAILURES_FILEPATH)\n",
    "\n",
    "RESULTS_HEADER = ['KNR', 'NAME', 'ID', 'STATUS', 'UNIT', 'VALUE_ID', 'VALUE', 'DATA']\n",
    "RESULTS_FILEPATH = 'temp/RESULTADOS.csv'"
   ]
  }
 ],
 "metadata": {
  "kernelspec": {
   "display_name": "venv",
   "language": "python",
   "name": "python3"
  },
  "language_info": {
   "codemirror_mode": {
    "name": "ipython",
    "version": 3
   },
   "file_extension": ".py",
   "mimetype": "text/x-python",
   "name": "python",
   "nbconvert_exporter": "python",
   "pygments_lexer": "ipython3",
   "version": "3.12.3"
  }
 },
 "nbformat": 4,
 "nbformat_minor": 2
}
